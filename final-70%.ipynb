{
 "cells": [
  {
   "cell_type": "markdown",
   "id": "47746224",
   "metadata": {},
   "source": [
    "### Task 1"
   ]
  },
  {
   "cell_type": "code",
   "execution_count": null,
   "id": "95dd86f2",
   "metadata": {},
   "outputs": [],
   "source": [
    "password = input('Enter a password: ')\n",
    "\n",
    "\n",
    "length = len(password)\n",
    "\n",
    "if length < 6: # If password is less than 6 characters\n",
    "    print('Password is too short!')\n",
    "elif length > 12: # If password is more than 12 characters\n",
    "    print('Password is too long!')\n",
    "elif not any(char.isupper() for char in password): # If password does not contain uppercase letters\n",
    "    print('Password must contain at least one uppercase letter!')\n",
    "elif not any(char.isalpha() for char in password) or not any(char.isdigit() for char in password):  # If password does not contain letters and numbers\n",
    "    print('Password must contain both letters and numbers!')\n",
    "elif any(not char.isalnum() for char in password): # If password contains special characters\n",
    "    print('Password cannot contain special characters!')\n",
    "else:\n",
    "    print('Password is valid!')"
   ]
  },
  {
   "cell_type": "markdown",
   "id": "de6bc6d0",
   "metadata": {},
   "source": [
    "### Task 2"
   ]
  },
  {
   "cell_type": "code",
   "execution_count": 3,
   "id": "c1b0f1f6",
   "metadata": {},
   "outputs": [
    {
     "name": "stdout",
     "output_type": "stream",
     "text": [
      "1.33\n",
      "6.88\n"
     ]
    }
   ],
   "source": [
    "# Create lists\n",
    "list1 = [4, 1, 4, 1, 3, 5]\n",
    "list2 = [43, 31, 41, 40, 40, 48, 29, 48, 23, 33]\n",
    "\n",
    "# Defining function\n",
    "def calculation(list):\n",
    "    average = sum(list) / len(list)\n",
    "    abs_differences = [abs(i - average) for i in list]\n",
    "    d = sum(abs_differences) / len(abs_differences)\n",
    "    return round(d, 2)\n",
    "\n",
    "# Calling function to print result for each list\n",
    "print(calculation(list1))\n",
    "print(calculation(list2))"
   ]
  },
  {
   "cell_type": "markdown",
   "id": "296dc767",
   "metadata": {},
   "source": [
    "### Task 3"
   ]
  },
  {
   "cell_type": "code",
   "execution_count": 4,
   "id": "fd913b1e",
   "metadata": {},
   "outputs": [
    {
     "name": "stdout",
     "output_type": "stream",
     "text": [
      "Average age of customers: 45.9 years\n",
      "Number of female customers: 4964\n",
      "Number of male customers: 5036\n"
     ]
    }
   ],
   "source": [
    "# Import the pandas library\n",
    "import pandas as pd\n",
    "\n",
    "# Loads the airline data into a  datafram\n",
    "df = pd.read_csv(\"~/Documents/python/airline.csv\")\n",
    "\n",
    "# Calculates the avg age of customers with one decimal\n",
    "average_age = round(df['Age'].mean(), 1)\n",
    "\n",
    "# Counts the number of female and male customers\n",
    "gender_counts = df['Gender'].value_counts()\n",
    "\n",
    "# Print the results\n",
    "print(f\"Average age of customers: {average_age} years\")\n",
    "print(f\"Number of female customers: {gender_counts['Female']}\")\n",
    "print(f\"Number of male customers: {gender_counts['Male']}\")"
   ]
  },
  {
   "cell_type": "markdown",
   "id": "52740282",
   "metadata": {},
   "source": [
    "### Task 4.1 & 4.2"
   ]
  },
  {
   "cell_type": "code",
   "execution_count": 1,
   "id": "f2a89404",
   "metadata": {},
   "outputs": [
    {
     "name": "stdout",
     "output_type": "stream",
     "text": [
      "3.61\n"
     ]
    }
   ],
   "source": [
    "# Dictionary to store bus stops\n",
    "Stops = {\n",
    "    1: (2, 1),\n",
    "    2: (6, 1),\n",
    "    3: (5, 3),\n",
    "    4: (3, 4),\n",
    "    5: (3, 6),\n",
    "    6: (5, 7),\n",
    "    7: (7, 6)\n",
    "}\n",
    "\n",
    "# Function to calculate the euclidean distance\n",
    "def euclidean_distance(loc1, loc2):\n",
    "    x = (((loc1[0] - loc2[0]) ** 2) + ((loc1[1] - loc2[1]) ** 2)) ** 0.5\n",
    "    return round(x,2)\n",
    "\n",
    "# Calculate distance between bus stops 2 and 5\n",
    "loc1 = (2, 1)\n",
    "loc2 = (5, 3)\n",
    "\n",
    "print(round(euclidean_distance(loc1, loc2), 2))"
   ]
  },
  {
   "cell_type": "markdown",
   "id": "4de8e745",
   "metadata": {},
   "source": [
    "### Task 4.3"
   ]
  },
  {
   "cell_type": "code",
   "execution_count": 2,
   "id": "36d4a571",
   "metadata": {},
   "outputs": [
    {
     "name": "stdout",
     "output_type": "stream",
     "text": [
      "Enter x coordinate: 2\n",
      "Enter y coordinate: 7\n",
      "The closest bus stop is Stop 5 with a distance of 1.41 km.\n"
     ]
    }
   ],
   "source": [
    "# Function to find the closest bus stop\n",
    "def closest_stop(locationx, locationy):\n",
    "    closest_distance = float('inf')\n",
    "    closest_stop = None\n",
    "\n",
    "    for stop, coords in Stops.items():\n",
    "        distance = euclidean_distance((locationx, locationy), coords)\n",
    "        if distance < closest_distance:\n",
    "            closest_distance = distance\n",
    "            closest_stop = stop\n",
    "\n",
    "    return f\"The closest bus stop is Stop {closest_stop} with a distance of {round(closest_distance, 2)} km.\"\n",
    "\n",
    "locationx = int(input('Enter x coordinate: '))\n",
    "locationy = int(input('Enter y coordinate: '))\n",
    "\n",
    "print(closest_stop(locationx, locationy))"
   ]
  },
  {
   "cell_type": "markdown",
   "id": "5d390d17",
   "metadata": {},
   "source": [
    "### Task 4.4"
   ]
  },
  {
   "cell_type": "code",
   "execution_count": 4,
   "id": "3ef8ffc9",
   "metadata": {},
   "outputs": [
    {
     "name": "stdout",
     "output_type": "stream",
     "text": [
      "Enter your departure location: 2\n",
      "Enter your destination: 7\n",
      "Estimated bus travel time: 37.1 minutes\n"
     ]
    }
   ],
   "source": [
    "# Create list for speed and a empty list for distances\n",
    "speed = [2.5, 2.5, 4, 4, 4, 2.5]\n",
    "distance = [] \n",
    "\n",
    "# Make a loop in order to calculate the distance between each bus stop\n",
    "for i in list(Stops.keys())[:-1]: \n",
    "    distance.append(euclidean_distance(Stops[i], Stops[i+1]))\n",
    "\n",
    "# Make loop to calculate the time between each bus stop\n",
    "def bus_time(start_location, stop_location):\n",
    "    time = 0\n",
    "    for i in range(start_location, stop_location): \n",
    "        time = time + speed[i-1] * distance[i-1]\n",
    "    return time\n",
    "\n",
    "start_location = int(input(\"Enter your departure location: \"))\n",
    "stop_location = int(input(\"Enter your destination: \"))\n",
    "\n",
    "time = bus_time(start_location, stop_location)\n",
    "\n",
    "print(f\"Estimated bus travel time: {time:.1f} minutes\")"
   ]
  },
  {
   "cell_type": "markdown",
   "id": "12657d87",
   "metadata": {},
   "source": []
  }
 ],
 "metadata": {
  "kernelspec": {
   "display_name": "Python [conda env:base] *",
   "language": "python",
   "name": "conda-base-py"
  },
  "language_info": {
   "codemirror_mode": {
    "name": "ipython",
    "version": 3
   },
   "file_extension": ".py",
   "mimetype": "text/x-python",
   "name": "python",
   "nbconvert_exporter": "python",
   "pygments_lexer": "ipython3",
   "version": "3.12.7"
  }
 },
 "nbformat": 4,
 "nbformat_minor": 5
}
