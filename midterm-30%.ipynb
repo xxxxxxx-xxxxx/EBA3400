{
 "cells": [
  {
   "cell_type": "markdown",
   "id": "c638c2c1",
   "metadata": {},
   "source": [
    "# Midterm"
   ]
  },
  {
   "cell_type": "markdown",
   "id": "4977364f",
   "metadata": {},
   "source": [
    "### Assignment 1"
   ]
  },
  {
   "cell_type": "code",
   "execution_count": 14,
   "id": "7c580236",
   "metadata": {},
   "outputs": [
    {
     "name": "stdout",
     "output_type": "stream",
     "text": [
      "Enter a password: Emil21\n",
      "Valid password\n"
     ]
    }
   ],
   "source": [
    "def valid_password(password):\n",
    "    # Checking the password length\n",
    "    if 6 <= len(password) <= 12:\n",
    "        # Checking for at least one uppercase letter\n",
    "        has_upper = False\n",
    "        for char in password:\n",
    "            if char.isupper():\n",
    "                has_upper = True\n",
    "                break\n",
    "\n",
    "        # Checking for at least one digit\n",
    "        has_digit = any(char.isdigit() for char in password)\n",
    "\n",
    "        # Checking for special characters\n",
    "        has_special = not any(char in '!@#$%^&*()-_=+[]{}|;:\\'\",.<>?' for char in password)\n",
    "\n",
    "        # All conditions must be met for a valid password\n",
    "        if has_upper and has_digit and has_special:\n",
    "            return True\n",
    "\n",
    "    return False\n",
    "\n",
    "# Get the password from the user\n",
    "password = input(\"Enter a password: \")\n",
    "\n",
    "# Check if the password is valid\n",
    "if valid_password(password):\n",
    "    print(\"Valid password\")\n",
    "else:\n",
    "    print(\"Invalid password\")"
   ]
  },
  {
   "cell_type": "markdown",
   "id": "bccd3746",
   "metadata": {},
   "source": [
    "### Assignment 2"
   ]
  },
  {
   "cell_type": "code",
   "execution_count": 2,
   "id": "5ed68e23",
   "metadata": {},
   "outputs": [
    {
     "name": "stdout",
     "output_type": "stream",
     "text": [
      "Distortion level for list 1: 1.33\n",
      "Distortion level for list 2: 6.88\n"
     ]
    }
   ],
   "source": [
    "def calculate_distortion_level(data):\n",
    "    # Calculate the mean of the data\n",
    "    mean = sum(data) / len(data)\n",
    "\n",
    "    # Calculate the distortion level using the absolute value as given in the assignment\n",
    "    distortion = round(sum(abs(x - mean) for x in data) / len(data),2)\n",
    "    \n",
    "    return distortion\n",
    "\n",
    "list_1 = [4, 1, 4, 1, 3, 5]\n",
    "list_2 = [43, 31, 41, 40, 40, 48, 29, 48, 23, 33]\n",
    "\n",
    "distortion_1 = calculate_distortion_level(list_1)\n",
    "distortion_2 = calculate_distortion_level(list_2)\n",
    "\n",
    "print(\"Distortion level for list 1:\", distortion_1)\n",
    "print(\"Distortion level for list 2:\", distortion_2)"
   ]
  },
  {
   "cell_type": "markdown",
   "id": "cdfb8889",
   "metadata": {},
   "source": [
    "### Assignment 3"
   ]
  },
  {
   "cell_type": "code",
   "execution_count": 13,
   "id": "4a1aa7b8",
   "metadata": {},
   "outputs": [
    {
     "name": "stdout",
     "output_type": "stream",
     "text": [
      "Average age of customers:  45.9\n",
      "Number of female customers:  4964\n",
      "Number of male customers:  5036\n"
     ]
    }
   ],
   "source": [
    "import pandas as pd\n",
    "\n",
    "#Read the CSV file into a pandas DataFrame\n",
    "df = pd.read_csv(\"airline.csv\")\n",
    "\n",
    "#Calculate the average age of customers\n",
    "average_age = round(df[\"Age\"].mean(), 1)\n",
    "\n",
    "#Count the number of female and male customers\n",
    "gender_counts = df[\"Gender\"].value_counts()\n",
    "\n",
    "# Print the results\n",
    "print(\"Average age of customers: \", average_age)\n",
    "print(\"Number of female customers: \", gender_counts[\"Female\"])\n",
    "print(\"Number of male customers: \", gender_counts[\"Male\"])"
   ]
  },
  {
   "cell_type": "markdown",
   "id": "b2937374",
   "metadata": {},
   "source": [
    "### Assignment 4"
   ]
  },
  {
   "cell_type": "code",
   "execution_count": 1,
   "id": "9f273f00",
   "metadata": {},
   "outputs": [],
   "source": [
    "### 0.0: Import allowed library\n",
    "\n",
    "import pandas as pd"
   ]
  },
  {
   "cell_type": "markdown",
   "id": "f93aeb23",
   "metadata": {},
   "source": [
    "#### Assignment 4.1"
   ]
  },
  {
   "cell_type": "code",
   "execution_count": 2,
   "id": "95868b44",
   "metadata": {},
   "outputs": [
    {
     "data": {
      "text/plain": [
       "{1: (2, 1), 2: (6, 1), 3: (5, 3), 4: (3, 4), 5: (3, 6), 6: (5, 7), 7: (7, 6)}"
      ]
     },
     "execution_count": 2,
     "metadata": {},
     "output_type": "execute_result"
    }
   ],
   "source": [
    "# Store stop ID and coordinates in dictionary \n",
    "stop_info = {\n",
    "    1 : (2, 1),\n",
    "    2 : (6, 1),\n",
    "    3 : (5, 3),\n",
    "    4 : (3, 4),\n",
    "    5 : (3, 6), \n",
    "    6 : (5, 7),\n",
    "    7 : (7, 6)\n",
    "}\n",
    "\n",
    "stop_info"
   ]
  },
  {
   "cell_type": "markdown",
   "id": "5025fe77",
   "metadata": {},
   "source": [
    "#### Assignment 4.2"
   ]
  },
  {
   "cell_type": "code",
   "execution_count": 8,
   "id": "ecb1b464",
   "metadata": {},
   "outputs": [
    {
     "name": "stdout",
     "output_type": "stream",
     "text": [
      "The distance between point (2,1) and point (5,3) is 3.61\n"
     ]
    }
   ],
   "source": [
    "# Write function for calculating distance between two points \n",
    "def eucledian_distance(loc1, loc2):\n",
    "    \n",
    "    x1, y1 = loc1[0], loc1[1]\n",
    "    x2, y2 = loc2[0], loc2[1]\n",
    "    \n",
    "    return ((x2 - x1)**2 + (y2 - y1)**2)**(1/2)\n",
    "\n",
    "\n",
    "loc1 = (2,1)\n",
    "loc2 = (5,3)\n",
    "dist = eucledian_distance(loc1, loc2)\n",
    "\n",
    "print(f\"The distance between point (2,1) and point (5,3) is {dist:.2f}\")"
   ]
  },
  {
   "cell_type": "markdown",
   "id": "58d5edf2",
   "metadata": {},
   "source": [
    "#### Assignment 4.3"
   ]
  },
  {
   "cell_type": "code",
   "execution_count": 9,
   "id": "30fd2457",
   "metadata": {},
   "outputs": [],
   "source": [
    "def nearest_stop(stop_info, user_location):\n",
    "    \n",
    "    # Calculating eucledian distances using list comprehentions \n",
    "    list_dist = [eucledian_distance(stop_info[i], user_location) for i in stop_info]\n",
    "\n",
    "    # Looping over values, returning the first index matching the minimum distance\n",
    "    for index, value in enumerate(list_dist):\n",
    "        if value == min(list_dist): \n",
    "            return index + 1\n",
    "    "
   ]
  },
  {
   "cell_type": "code",
   "execution_count": 10,
   "id": "fa589c33",
   "metadata": {},
   "outputs": [
    {
     "name": "stdout",
     "output_type": "stream",
     "text": [
      "Enter your coordinate (x): 10\n",
      "Enter your coordinate (y): 10\n",
      "The nearest stop is Stop 7.\n"
     ]
    }
   ],
   "source": [
    "x = input(\"Enter your coordinate (x): \")\n",
    "y = input(\"Enter your coordinate (y): \")\n",
    "\n",
    "user_location = (float(x), float(y)) \n",
    "\n",
    "stopID = nearest_stop(stop_info, user_location)\n",
    "\n",
    "print(f\"The nearest stop is Stop {stopID}.\")"
   ]
  },
  {
   "cell_type": "markdown",
   "id": "4786d9d1",
   "metadata": {},
   "source": [
    "#### Assignment 4.4"
   ]
  },
  {
   "cell_type": "code",
   "execution_count": 19,
   "id": "f8f072e7",
   "metadata": {},
   "outputs": [
    {
     "name": "stdout",
     "output_type": "stream",
     "text": [
      "[4.0, 2.23606797749979, 2.23606797749979, 2.0, 2.23606797749979, 2.23606797749979]\n"
     ]
    }
   ],
   "source": [
    "# Store speed and kilometers in list\n",
    "v = [2.5, 2.5, 4, 4, 4, 2.5]\n",
    "d = [] \n",
    "\n",
    "# Indexing stopping before final bus stop. \n",
    "for i in list(stop_info.keys())[:-1]: \n",
    "    \n",
    "    d.append(eucledian_distance(stop_info[i], stop_info[i+1]))\n",
    "\n",
    "# Function summing times between bus stops, from departure stop to destination stop\n",
    "def bus_time(startID, stopID):\n",
    "    \n",
    "    time = 0\n",
    "    for i in range(startID, stopID): \n",
    "        time = time + v[i-1] * d[i-1]\n",
    "    return time\n",
    "\n",
    "print(d)\n"
   ]
  },
  {
   "cell_type": "code",
   "execution_count": 20,
   "id": "70d375b7",
   "metadata": {},
   "outputs": [
    {
     "name": "stdout",
     "output_type": "stream",
     "text": [
      "Departure stop: 1\n",
      "Destination stop: 7\n",
      "Estimated bus travel time: 47.1 min. Disclaimer: Assumes no liability or responsibility for delay.\n"
     ]
    }
   ],
   "source": [
    "startID = int(input(\"Departure stop: \"))\n",
    "stopID = int(input(\"Destination stop: \"))\n",
    "\n",
    "time = bus_time(startID, stopID)\n",
    "\n",
    "print(f\"Estimated bus travel time: {time:.1f} min. Disclaimer: Assumes no liability or responsibility for delay.\")"
   ]
  }
 ],
 "metadata": {
  "kernelspec": {
   "display_name": "Python [conda env:base] *",
   "language": "python",
   "name": "conda-base-py"
  },
  "language_info": {
   "codemirror_mode": {
    "name": "ipython",
    "version": 3
   },
   "file_extension": ".py",
   "mimetype": "text/x-python",
   "name": "python",
   "nbconvert_exporter": "python",
   "pygments_lexer": "ipython3",
   "version": "3.12.7"
  }
 },
 "nbformat": 4,
 "nbformat_minor": 5
}
